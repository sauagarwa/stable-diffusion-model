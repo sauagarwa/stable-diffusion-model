{
 "cells": [
  {
   "cell_type": "code",
   "execution_count": 8,
   "id": "0943b366-7d19-4256-a4dc-9d89ce2ec642",
   "metadata": {
    "tags": []
   },
   "outputs": [
    {
     "name": "stdout",
     "output_type": "stream",
     "text": [
      "Requirement already satisfied: boto3 in /opt/app-root/lib/python3.9/site-packages (1.34.135)\n",
      "Requirement already satisfied: botocore in /opt/app-root/lib/python3.9/site-packages (1.34.135)\n",
      "Requirement already satisfied: torch-model-archiver in /opt/app-root/lib/python3.9/site-packages (0.12.0)\n",
      "Requirement already satisfied: jmespath<2.0.0,>=0.7.1 in /opt/app-root/lib/python3.9/site-packages (from boto3) (1.0.1)\n",
      "Requirement already satisfied: s3transfer<0.11.0,>=0.10.0 in /opt/app-root/lib/python3.9/site-packages (from boto3) (0.10.2)\n",
      "Requirement already satisfied: python-dateutil<3.0.0,>=2.1 in /opt/app-root/lib/python3.9/site-packages (from botocore) (2.9.0.post0)\n",
      "Requirement already satisfied: urllib3<1.27,>=1.25.4 in /opt/app-root/lib/python3.9/site-packages (from botocore) (1.26.19)\n",
      "Requirement already satisfied: enum-compat in /opt/app-root/lib/python3.9/site-packages (from torch-model-archiver) (0.0.3)\n",
      "Requirement already satisfied: six>=1.5 in /opt/app-root/lib/python3.9/site-packages (from python-dateutil<3.0.0,>=2.1->botocore) (1.16.0)\n",
      "\n",
      "\u001b[1m[\u001b[0m\u001b[34;49mnotice\u001b[0m\u001b[1;39;49m]\u001b[0m\u001b[39;49m A new release of pip available: \u001b[0m\u001b[31;49m22.2.2\u001b[0m\u001b[39;49m -> \u001b[0m\u001b[32;49m24.2\u001b[0m\n",
      "\u001b[1m[\u001b[0m\u001b[34;49mnotice\u001b[0m\u001b[1;39;49m]\u001b[0m\u001b[39;49m To update, run: \u001b[0m\u001b[32;49mpip install --upgrade pip\u001b[0m\n"
     ]
    }
   ],
   "source": [
    "!pip install boto3 botocore torch-model-archiver"
   ]
  },
  {
   "cell_type": "code",
   "execution_count": 20,
   "id": "a1c00479-5073-4b1c-98b1-6fb0c468cd54",
   "metadata": {
    "tags": []
   },
   "outputs": [
    {
     "name": "stdout",
     "output_type": "stream",
     "text": [
      "minio\n",
      "stable-diffusion\n",
      "https://minio-api-worldline.apps.ai-dev02.kni.syseng.devcluster.openshift.com\n",
      "us-east-1\n",
      "minio123\n"
     ]
    }
   ],
   "source": [
    "import os\n",
    "import boto3\n",
    "import botocore\n",
    "\n",
    "aws_access_key_id = os.environ.get('AWS_ACCESS_KEY_ID')\n",
    "aws_secret_access_key = os.environ.get('AWS_SECRET_ACCESS_KEY')\n",
    "endpoint_url = os.environ.get('AWS_S3_ENDPOINT')\n",
    "region_name = os.environ.get('AWS_DEFAULT_REGION')\n",
    "bucket_name = os.environ.get('AWS_S3_BUCKET')\n",
    "\n",
    "# print(aws_access_key_id)\n",
    "# print(bucket_name)\n",
    "# print(endpoint_url)\n",
    "# print(region_name)\n",
    "# print(aws_secret_access_key)"
   ]
  },
  {
   "cell_type": "code",
   "execution_count": 10,
   "id": "befd848c-dd70-42dc-952f-91682e2c67a1",
   "metadata": {
    "tags": []
   },
   "outputs": [
    {
     "name": "stdout",
     "output_type": "stream",
     "text": [
      "Current working directory: /opt/app-root/src/stable-diffusion-model\n"
     ]
    }
   ],
   "source": [
    "work_dir=os.getcwd()\n",
    "print(f\"Current working directory: {work_dir}\")"
   ]
  },
  {
   "cell_type": "code",
   "execution_count": 5,
   "id": "f36f1328-b92c-4468-ad61-2b3ada4d9844",
   "metadata": {
    "tags": []
   },
   "outputs": [
    {
     "name": "stdout",
     "output_type": "stream",
     "text": [
      "Local tuned model dir: /opt/app-root/src/stable-diffusion-model/diffusion_model\n"
     ]
    }
   ],
   "source": [
    "tuned_model_dir = f\"{work_dir}/diffusion_model\"\n",
    "print(f\"Local tuned model dir: {tuned_model_dir}\")"
   ]
  },
  {
   "cell_type": "code",
   "execution_count": 12,
   "id": "44e17283-a38e-437d-93ae-8e1509431b1a",
   "metadata": {
    "tags": []
   },
   "outputs": [
    {
     "name": "stdout",
     "output_type": "stream",
     "text": [
      "Minio console: https://minio-ui-worldline.apps.ai-dev02.kni.syseng.devcluster.openshift.com/browser/stable-diffusion\n"
     ]
    }
   ],
   "source": [
    "minio_console=!oc get route minio-ui -o jsonpath='{.spec.host}'\n",
    "print(f\"Minio console: https://{minio_console.n}/browser/{bucket_name}\")"
   ]
  },
  {
   "cell_type": "code",
   "execution_count": 13,
   "id": "167bcf72-0217-4ce7-a9a0-572d2dfc62e1",
   "metadata": {
    "tags": []
   },
   "outputs": [
    {
     "name": "stdout",
     "output_type": "stream",
     "text": [
      "updating: feature_extractor/ (stored 0%)\n",
      "updating: feature_extractor/preprocessor_config.json (deflated 48%)\n",
      "updating: model_index.json (deflated 56%)\n",
      "updating: safety_checker/ (stored 0%)\n",
      "updating: safety_checker/model.safetensors (deflated 8%)\n",
      "updating: safety_checker/config.json (deflated 49%)\n",
      "updating: scheduler/ (stored 0%)\n",
      "updating: scheduler/scheduler_config.json (deflated 41%)\n",
      "updating: text_encoder/ (stored 0%)\n",
      "updating: text_encoder/model.safetensors (deflated 8%)\n",
      "updating: text_encoder/config.json (deflated 43%)\n",
      "updating: tokenizer/ (stored 0%)\n",
      "updating: tokenizer/special_tokens_map.json (deflated 73%)\n",
      "updating: tokenizer/vocab.json (deflated 71%)\n",
      "updating: tokenizer/tokenizer_config.json (deflated 64%)\n",
      "updating: tokenizer/merges.txt (deflated 60%)\n",
      "updating: unet/ (stored 0%)\n",
      "updating: unet/diffusion_pytorch_model.safetensors (deflated 8%)\n",
      "updating: unet/config.json (deflated 63%)\n",
      "updating: vae/ (stored 0%)\n",
      "updating: vae/diffusion_pytorch_model.safetensors (deflated 8%)\n",
      "updating: vae/config.json (deflated 55%)\n"
     ]
    }
   ],
   "source": [
    "# This can take 10-15mins to zip up\n",
    "\n",
    "!(cd {tuned_model_dir} && zip -r {work_dir}/model/model.zip *)"
   ]
  },
  {
   "cell_type": "code",
   "execution_count": 14,
   "id": "9bbeab20-d6c6-4f3b-8bb0-85ca53b90b2a",
   "metadata": {
    "tags": []
   },
   "outputs": [],
   "source": [
    "!(cd {work_dir}/model && torch-model-archiver --model-name stable-diffusion --version 1.0 --handler stable_diffusion_handler.py --extra-files model.zip -r requirements.txt -f)"
   ]
  },
  {
   "cell_type": "code",
   "execution_count": 17,
   "id": "aa7455e8-9849-47d5-921b-e97fddee9e53",
   "metadata": {
    "tags": []
   },
   "outputs": [
    {
     "ename": "ValueError",
     "evalue": "One or data connection variables are empty.  Please check your data connection to an S3 bucket.",
     "output_type": "error",
     "traceback": [
      "\u001b[0;31m---------------------------------------------------------------------------\u001b[0m",
      "\u001b[0;31mValueError\u001b[0m                                Traceback (most recent call last)",
      "Cell \u001b[0;32mIn[17], line 2\u001b[0m\n\u001b[1;32m      1\u001b[0m \u001b[38;5;28;01mif\u001b[39;00m \u001b[38;5;129;01mnot\u001b[39;00m \u001b[38;5;28mall\u001b[39m([aws_access_key_id, aws_secret_access_key, endpoint_url, region_name, bucket_name]):\n\u001b[0;32m----> 2\u001b[0m     \u001b[38;5;28;01mraise\u001b[39;00m \u001b[38;5;167;01mValueError\u001b[39;00m(\u001b[38;5;124m\"\u001b[39m\u001b[38;5;124mOne or data connection variables are empty.  \u001b[39m\u001b[38;5;124m\"\u001b[39m\n\u001b[1;32m      3\u001b[0m                      \u001b[38;5;124m\"\u001b[39m\u001b[38;5;124mPlease check your data connection to an S3 bucket.\u001b[39m\u001b[38;5;124m\"\u001b[39m)\n\u001b[1;32m      5\u001b[0m session \u001b[38;5;241m=\u001b[39m boto3\u001b[38;5;241m.\u001b[39msession\u001b[38;5;241m.\u001b[39mSession(aws_access_key_id\u001b[38;5;241m=\u001b[39maws_access_key_id,\n\u001b[1;32m      6\u001b[0m                                 aws_secret_access_key\u001b[38;5;241m=\u001b[39maws_secret_access_key)\n\u001b[1;32m      8\u001b[0m s3_resource \u001b[38;5;241m=\u001b[39m session\u001b[38;5;241m.\u001b[39mresource(\n\u001b[1;32m      9\u001b[0m     \u001b[38;5;124m'\u001b[39m\u001b[38;5;124ms3\u001b[39m\u001b[38;5;124m'\u001b[39m,\n\u001b[1;32m     10\u001b[0m     config\u001b[38;5;241m=\u001b[39mbotocore\u001b[38;5;241m.\u001b[39mclient\u001b[38;5;241m.\u001b[39mConfig(signature_version\u001b[38;5;241m=\u001b[39m\u001b[38;5;124m'\u001b[39m\u001b[38;5;124ms3v4\u001b[39m\u001b[38;5;124m'\u001b[39m),\n\u001b[1;32m     11\u001b[0m     endpoint_url\u001b[38;5;241m=\u001b[39mendpoint_url,\n\u001b[1;32m     12\u001b[0m     region_name\u001b[38;5;241m=\u001b[39mregion_name)\n",
      "\u001b[0;31mValueError\u001b[0m: One or data connection variables are empty.  Please check your data connection to an S3 bucket."
     ]
    }
   ],
   "source": [
    "if not all([aws_access_key_id, aws_secret_access_key, endpoint_url, region_name, bucket_name]):\n",
    "    raise ValueError(\"One or data connection variables are empty.  \"\n",
    "                     \"Please check your data connection to an S3 bucket.\")\n",
    "\n",
    "session = boto3.session.Session(aws_access_key_id=aws_access_key_id,\n",
    "                                aws_secret_access_key=aws_secret_access_key)\n",
    "\n",
    "s3_resource = session.resource(\n",
    "    's3',\n",
    "    config=botocore.client.Config(signature_version='s3v4'),\n",
    "    endpoint_url=endpoint_url,\n",
    "    region_name=region_name)\n",
    "\n",
    "bucket = s3_resource.Bucket(bucket_name)\n",
    "\n",
    "def upload_directory_to_s3(local_directory, s3_prefix):\n",
    "    num_files = 0\n",
    "    for root, dirs, files in os.walk(local_directory):\n",
    "        for filename in files:\n",
    "            file_path = os.path.join(root, filename)\n",
    "            relative_path = os.path.relpath(file_path, local_directory)\n",
    "            s3_key = os.path.join(s3_prefix, relative_path)\n",
    "            print(f\"{file_path} -> {s3_key}\")\n",
    "            bucket.upload_file(file_path, s3_key)\n",
    "            num_files += 1\n",
    "    return num_files\n",
    "\n",
    "\n",
    "def list_objects(prefix):\n",
    "    filter = bucket.objects.filter(Prefix=prefix)\n",
    "    for obj in filter.all():\n",
    "        print(obj.key)"
   ]
  },
  {
   "cell_type": "code",
   "execution_count": null,
   "id": "07c3e2ca-dff8-45e7-acba-43b3b1a6e495",
   "metadata": {
    "tags": []
   },
   "outputs": [],
   "source": [
    "list_objects(\"models\")"
   ]
  },
  {
   "cell_type": "code",
   "execution_count": null,
   "id": "6c973fc9-d3be-49b5-a6e2-e35838cf5d6c",
   "metadata": {
    "tags": []
   },
   "outputs": [],
   "source": [
    "model_dir = work_dir + \"/model\"\n",
    "\n",
    "if not os.path.isdir(model_dir):\n",
    "    raise ValueError(f\"The directory '{model_dir}' does not exist.  \"\n",
    "                     \"Did you finish training the model in the previous notebook?\")\n",
    "\n",
    "num_files = upload_directory_to_s3(model_dir, \"models\")\n",
    "\n",
    "if num_files == 0:\n",
    "    raise ValueError(f\"No files uploaded. Check the {model_dir} directory.\")"
   ]
  },
  {
   "cell_type": "code",
   "execution_count": null,
   "id": "fe1765fb-b277-4f4d-bd94-b16a40787105",
   "metadata": {
    "tags": []
   },
   "outputs": [],
   "source": [
    "list_objects(\"models\")"
   ]
  }
 ],
 "metadata": {
  "kernelspec": {
   "display_name": "Python 3.9",
   "language": "python",
   "name": "python3"
  },
  "language_info": {
   "codemirror_mode": {
    "name": "ipython",
    "version": 3
   },
   "file_extension": ".py",
   "mimetype": "text/x-python",
   "name": "python",
   "nbconvert_exporter": "python",
   "pygments_lexer": "ipython3",
   "version": "3.9.18"
  }
 },
 "nbformat": 4,
 "nbformat_minor": 5
}
